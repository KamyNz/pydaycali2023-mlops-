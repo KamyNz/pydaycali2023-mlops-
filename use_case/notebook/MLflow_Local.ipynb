{
 "cells": [
  {
   "cell_type": "markdown",
   "id": "73a09110",
   "metadata": {},
   "source": [
    "# Table of Contents\n",
    "\n",
    "* [Introduction](#1)\n",
    "* [Workspace Preparation](#2)\n",
    "* [Data Preparation](#3)\n",
    "* [Getting x_train, x_test, y_train, y_test](#4)\n",
    "* [MLFlow workspace preparation and Use](#5)\n",
    "* [Conclusions](#6)\n",
    "* [References](#7)"
   ]
  },
  {
   "cell_type": "markdown",
   "id": "a3f6d0b8",
   "metadata": {},
   "source": [
    "# Introduction\n",
    "\n",
    "> Nota: Este Jupyter Notebook en la mayor medida esta en Ingles. Se encuentra en español las partes del contexto y habra comentarios con spanglish. ;)"
   ]
  },
  {
   "cell_type": "markdown",
   "id": "human-marks",
   "metadata": {},
   "source": [
    "### Escenario del Notebook\n",
    "\n",
    "- XX"
   ]
  },
  {
   "cell_type": "markdown",
   "id": "30234859",
   "metadata": {},
   "source": [
    "## Using MLflowUtils class created for the context of Use Case - Alianza Caoba"
   ]
  },
  {
   "cell_type": "code",
   "execution_count": 1,
   "id": "annoying-sociology",
   "metadata": {},
   "outputs": [
    {
     "name": "stderr",
     "output_type": "stream",
     "text": [
      "/Users/camilamv/Downloads/PyDayCali/pydaycali2023-mlops-/.venv/lib/python3.10/site-packages/pydantic/_internal/_fields.py:128: UserWarning: Field \"model_server_url\" has conflict with protected namespace \"model_\".\n",
      "\n",
      "You may be able to resolve this warning by setting `model_config['protected_namespaces'] = ()`.\n",
      "  warnings.warn(\n",
      "/Users/camilamv/Downloads/PyDayCali/pydaycali2023-mlops-/.venv/lib/python3.10/site-packages/pydantic/_internal/_config.py:317: UserWarning: Valid config keys have changed in V2:\n",
      "* 'schema_extra' has been renamed to 'json_schema_extra'\n",
      "  warnings.warn(message, UserWarning)\n"
     ]
    }
   ],
   "source": [
    "import json\n",
    "import mlflow\n",
    "from mlflow.models.signature import infer_signature\n",
    "from mlflow.tracking import MlflowClient\n",
    "from pathlib import Path\n",
    "\n",
    "class MLFlowUtils:\n",
    "\n",
    "    def __init__(self, config_name = None):\n",
    "        config_path = Path(\"../config/experiment_config.json\")\n",
    "        with open(config_path, 'r', encoding='utf-8') as file:\n",
    "            self.config = json.load(file)[config_name]\n",
    "\n",
    "        self.params = self.config.get(\"params\", {})\n",
    "        self.tags = self.config.get(\"tags\", {})\n",
    "\n",
    "        #self.experiment_name = self.config.get(\"experiment_name\")\n",
    "        #mlflow.set_experiment(self.experiment_name)\n",
    "\n",
    "    def log_params(self):\n",
    "        \"\"\"Registra los parámetros en MLflow\"\"\"\n",
    "        mlflow.log_params(self.params)\n",
    "\n",
    "    def log_tags(self):\n",
    "        \"\"\"Registra los tags en MLflow\"\"\"\n",
    "        mlflow.set_tags(self.tags)\n",
    "\n",
    "    def log_model(self, model, artifact_path, signature=None):\n",
    "        if signature:\n",
    "            mlflow.sklearn.log_model(model, artifact_path, signature=signature)\n",
    "        else:\n",
    "            mlflow.sklearn.log_model(model, artifact_path)\n",
    "\n",
    "    def log_metrics(self, metrics):\n",
    "        for key, value in metrics.items():\n",
    "            mlflow.log_metric(key, value)\n",
    "\n",
    "    def log_artifact(self, artifact_path):\n",
    "        mlflow.log_artifact(artifact_path)\n",
    "\n",
    "    def end_run(self):\n",
    "        mlflow.end_run()\n",
    "\n",
    "    def load_model(self, run_id, artifact_path):\n",
    "        \"\"\"Carga un modelo desde MLflow basado en run_id y artifact_path.\"\"\"\n",
    "        logged_model = f\"runs:/{run_id}/{artifact_path}\"\n",
    "        return mlflow.sklearn.load_model(logged_model)\n",
    "\n",
    "    def register_model(self, run_id, artifact_path, model_name):\n",
    "        \"\"\"Registra el modelo en MLflow.\"\"\"\n",
    "        model_uri = f\"runs:/{run_id}/{artifact_path}\"\n",
    "        mlflow.register_model(model_uri, model_name)\n",
    "\n",
    "        # Devuelve la última versión del modelo registrado\n",
    "        client = MlflowClient()\n",
    "        model_version_details = client.get_latest_versions(model_name, stages=[\"None\"])\n",
    "        if model_version_details:\n",
    "            return model_version_details[0].version\n",
    "        return None\n",
    "\n",
    "    def set_model_stage(self, model_name, version, stage):\n",
    "        client = MlflowClient()\n",
    "        client.transition_model_version_stage(name=model_name, version=version, stage=stage)\n"
   ]
  },
  {
   "cell_type": "code",
   "execution_count": 3,
   "id": "b911a5e1",
   "metadata": {},
   "outputs": [],
   "source": [
    "#dir(MLFlowUtils)\n"
   ]
  },
  {
   "cell_type": "markdown",
   "id": "4f8c6131",
   "metadata": {},
   "source": [
    "## Step 3.1 Setting up MLflow URI and Experiment Name in order to track from Kmeans-pocc-02-transporte "
   ]
  },
  {
   "cell_type": "code",
   "execution_count": 23,
   "id": "strategic-parameter",
   "metadata": {},
   "outputs": [
    {
     "name": "stdout",
     "output_type": "stream",
     "text": [
      "url_uri used is: http://localhost:5000\n",
      "The experiment to configure is: puj-202301-poc-02-sde-transporte-test1\n",
      "Experiment_id: 995934375049530325\n",
      "Artifact Location: mlflow-artifacts:/995934375049530325\n",
      "Tags: {}\n",
      "Lifecycle_stage: active\n",
      "Creation timestamp: 1697663395720\n"
     ]
    }
   ],
   "source": [
    "#Modelo_KMeans.py\n",
    "\n",
    "#General Libraries\n",
    "import os\n",
    "import sys\n",
    "import numpy as np\n",
    "import pandas as pd\n",
    "import json\n",
    "import joblib\n",
    "from pathlib import Path\n",
    "from datetime import datetime\n",
    "\n",
    "#Analytics Libraries\n",
    "from sklearn.cluster import KMeans\n",
    "from sklearn.metrics import silhouette_score, davies_bouldin_score\n",
    "from sklearn.preprocessing import StandardScaler\n",
    "\n",
    "#MLflow libraries\n",
    "import mlflow\n",
    "from mlflow.tracking import MlflowClient\n",
    "from mlflow.models.signature import infer_signature\n",
    "from mlflow.pyfunc import PythonModel\n",
    "\n",
    "def cargar_datos():\n",
    "    \"\"\"Carga los datos desde un archivo CSV.\"\"\"\n",
    "    camino = Path('../data/raw/pqr_with_variables_for_Kmeans.csv')\n",
    "    data = pd.read_csv(camino)\n",
    "    return data\n",
    "\n",
    "def procesar_datos(data):\n",
    "    \"\"\"Procesa los datos para el modelo KMeans.\"\"\"\n",
    "    data['FECHA_RADICADO'] = pd.to_datetime(data['FECHA_RADICADO'], errors='coerce', format='%Y-%m-%d')\n",
    "    hoy = datetime.now()\n",
    "    data['dias'] = (hoy - data['FECHA_RADICADO']).dt.days\n",
    "    X = data[['Cantidad Bigramas', 'Cantidad Trigramas', 'Topico', 'Cantidad Verbos', 'Cantidad Adjetivos', 'Cantidad Adverbios', 'Cantidad Sustantivos', 'Cantidad_Palabras', 'Promedio_Palabras', 'DIVERSIDAD_LEXICA']]\n",
    "    scaler = StandardScaler()\n",
    "    X_scaled = scaler.fit_transform(X)\n",
    "    return X_scaled\n",
    "\n",
    "def entrenar_kmeans(X, n_clusters):\n",
    "    \"\"\"Entrena el modelo KMeans con un número determinado de clusters.\"\"\"\n",
    "    kmeans = KMeans(n_clusters=n_clusters, random_state=42)\n",
    "    kmeans.fit(X)\n",
    "    labels = kmeans.labels_\n",
    "    return kmeans, labels\n",
    "\n",
    "def asignar_criticidad(cluster):\n",
    "    \"\"\"Asigna una criticidad basada en el cluster.\"\"\"\n",
    "    if cluster == 0:\n",
    "        return \"alta\"\n",
    "    elif cluster == 1:\n",
    "        return \"media\"\n",
    "    elif cluster == 2:\n",
    "        return \"baja\"\n",
    "    else:\n",
    "        return \"muy baja\"\n",
    "\n",
    "def guardar_datos(data):\n",
    "    \"\"\"Guarda los datos con la criticidad en un archivo CSV.\"\"\"\n",
    "    data.to_csv(Path(\"../data/analytics/dataPredicciones.csv\"), index=False)\n",
    "\n",
    "def guardar_modelo_kmeans(modelo, path_modelo):\n",
    "    \"\"\"Guarda el modelo en un archivo .pkl.\"\"\"\n",
    "    joblib.dump(modelo, path_modelo)\n",
    "\n",
    "if __name__ == \"__main__\":\n",
    "    url_uri = \"http://localhost:5000\"\n",
    "    experiment_name = \"puj-202301-poc-02-sde-transporte-test1\"\n",
    "\n",
    "    # Setting tracking uri in localhost\n",
    "    mlflow.set_tracking_uri(url_uri)\n",
    "\n",
    "    print(f'url_uri used is: {url_uri}')\n",
    "    print(f'The experiment to configure is: {experiment_name}')\n",
    "\n",
    "    # Setting experiment name in localhost URI\n",
    "    mlflow.set_experiment(experiment_name)\n",
    "    experiment = mlflow.get_experiment_by_name(experiment_name)\n",
    "\n",
    "    print(\"Experiment_id: {}\".format(experiment.experiment_id))\n",
    "    print(\"Artifact Location: {}\".format(experiment.artifact_location))\n",
    "    print(\"Tags: {}\".format(experiment.tags))\n",
    "    print(\"Lifecycle_stage: {}\".format(experiment.lifecycle_stage))\n",
    "    print(\"Creation timestamp: {}\".format(experiment.creation_time))\n"
   ]
  },
  {
   "cell_type": "markdown",
   "id": "2cec0272",
   "metadata": {},
   "source": [
    "## Step 3: Setting up tags of experiment using in-house component MLflowUtils"
   ]
  },
  {
   "cell_type": "code",
   "execution_count": 7,
   "id": "liable-diameter",
   "metadata": {},
   "outputs": [],
   "source": [
    "#Using MLFLowUtils module to set tags and params\n",
    "\n",
    "tracker = MLFlowUtils(config_name=\"Modelo_KMeans\")\n",
    "\n",
    "# Loading and processing data\n",
    "data = cargar_datos()\n",
    "X_scaled = procesar_datos(data)\n"
   ]
  },
  {
   "cell_type": "code",
   "execution_count": 9,
   "id": "79fa67e0",
   "metadata": {},
   "outputs": [
    {
     "name": "stdout",
     "output_type": "stream",
     "text": [
      "<class 'pandas.core.frame.DataFrame'>\n",
      "RangeIndex: 24358 entries, 0 to 24357\n",
      "Data columns (total 28 columns):\n",
      " #   Column                Non-Null Count  Dtype         \n",
      "---  ------                --------------  -----         \n",
      " 0   #                     24358 non-null  int64         \n",
      " 1   DESCRIPCION_HECHOS    24352 non-null  object        \n",
      " 2   RADICADO ENTRADA      24358 non-null  int64         \n",
      " 3   Modo                  10179 non-null  object        \n",
      " 4   Motivo                10179 non-null  object        \n",
      " 5   MEDIO_RECEPCION       24358 non-null  object        \n",
      " 6   TIPO_PQR              24343 non-null  object        \n",
      " 7   FECHA_RADICADO        24358 non-null  datetime64[ns]\n",
      " 8   Textos Lematizados    24357 non-null  object        \n",
      " 9   Verbos                24358 non-null  object        \n",
      " 10  Adjetivos             24358 non-null  object        \n",
      " 11  Adverbios             24358 non-null  object        \n",
      " 12  Sustantivos           24358 non-null  object        \n",
      " 13  Bigramas              24358 non-null  object        \n",
      " 14  Trigramas             24358 non-null  object        \n",
      " 15  Cantidad Bigramas     24358 non-null  int64         \n",
      " 16  Cantidad Trigramas    24358 non-null  int64         \n",
      " 17  Cantidad Verbos       24358 non-null  int64         \n",
      " 18  Cantidad Adjetivos    24358 non-null  int64         \n",
      " 19  Cantidad Adverbios    24358 non-null  int64         \n",
      " 20  Cantidad Sustantivos  24358 non-null  int64         \n",
      " 21  Cantidad_Palabras     24358 non-null  int64         \n",
      " 22  Promedio_Palabras     24358 non-null  int64         \n",
      " 23  DIVERSIDAD_LEXICA     24358 non-null  float64       \n",
      " 24  Cantidad_Stop_Words   24358 non-null  int64         \n",
      " 25  Topico                24358 non-null  int64         \n",
      " 26  TipoPQRClasificado    24358 non-null  object        \n",
      " 27  dias                  24358 non-null  int64         \n",
      "dtypes: datetime64[ns](1), float64(1), int64(13), object(13)\n",
      "memory usage: 5.2+ MB\n"
     ]
    }
   ],
   "source": [
    "data.info()\n"
   ]
  },
  {
   "cell_type": "code",
   "execution_count": 17,
   "id": "painful-diagnosis",
   "metadata": {},
   "outputs": [
    {
     "name": "stdout",
     "output_type": "stream",
     "text": [
      "Portion of the X_scaled that is type: <class 'numpy.ndarray'>\n",
      "[[-0.89334889 -0.90238409]]\n"
     ]
    }
   ],
   "source": [
    "# Print a portion of the array\n",
    "print(f\"Portion of the X_scaled that is type: {type(X_scaled)}\")\n",
    "print(X_scaled[:1, :2])  # Prints the first row and first two columns of the array\n"
   ]
  },
  {
   "cell_type": "markdown",
   "id": "bff43cfd",
   "metadata": {},
   "source": [
    "## Step 4: Running MLflow over data to tracked best model of Kmeans"
   ]
  },
  {
   "cell_type": "code",
   "execution_count": 18,
   "id": "11594a12",
   "metadata": {},
   "outputs": [
    {
     "name": "stderr",
     "output_type": "stream",
     "text": [
      "/Users/camilamv/Downloads/PyDayCali/pydaycali2023-mlops-/.venv/lib/python3.10/site-packages/sklearn/cluster/_kmeans.py:1416: FutureWarning: The default value of `n_init` will change from 10 to 'auto' in 1.4. Set the value of `n_init` explicitly to suppress the warning\n",
      "  super()._check_params_vs_input(X, default_n_init=10)\n",
      "/Users/camilamv/Downloads/PyDayCali/pydaycali2023-mlops-/.venv/lib/python3.10/site-packages/sklearn/cluster/_kmeans.py:1416: FutureWarning: The default value of `n_init` will change from 10 to 'auto' in 1.4. Set the value of `n_init` explicitly to suppress the warning\n",
      "  super()._check_params_vs_input(X, default_n_init=10)\n",
      "/Users/camilamv/Downloads/PyDayCali/pydaycali2023-mlops-/.venv/lib/python3.10/site-packages/_distutils_hack/__init__.py:18: UserWarning: Distutils was imported before Setuptools, but importing Setuptools also replaces the `distutils` module in `sys.modules`. This may lead to undesirable behaviors or errors. To avoid these issues, avoid using distutils directly, ensure that setuptools is installed in the traditional way (e.g. not an editable install), and/or make sure that setuptools is always imported before distutils.\n",
      "  warnings.warn(\n",
      "/Users/camilamv/Downloads/PyDayCali/pydaycali2023-mlops-/.venv/lib/python3.10/site-packages/_distutils_hack/__init__.py:33: UserWarning: Setuptools is replacing distutils.\n",
      "  warnings.warn(\"Setuptools is replacing distutils.\")\n",
      "/Users/camilamv/Downloads/PyDayCali/pydaycali2023-mlops-/.venv/lib/python3.10/site-packages/sklearn/cluster/_kmeans.py:1416: FutureWarning: The default value of `n_init` will change from 10 to 'auto' in 1.4. Set the value of `n_init` explicitly to suppress the warning\n",
      "  super()._check_params_vs_input(X, default_n_init=10)\n",
      "/Users/camilamv/Downloads/PyDayCali/pydaycali2023-mlops-/.venv/lib/python3.10/site-packages/_distutils_hack/__init__.py:18: UserWarning: Distutils was imported before Setuptools, but importing Setuptools also replaces the `distutils` module in `sys.modules`. This may lead to undesirable behaviors or errors. To avoid these issues, avoid using distutils directly, ensure that setuptools is installed in the traditional way (e.g. not an editable install), and/or make sure that setuptools is always imported before distutils.\n",
      "  warnings.warn(\n",
      "/Users/camilamv/Downloads/PyDayCali/pydaycali2023-mlops-/.venv/lib/python3.10/site-packages/_distutils_hack/__init__.py:33: UserWarning: Setuptools is replacing distutils.\n",
      "  warnings.warn(\"Setuptools is replacing distutils.\")\n"
     ]
    }
   ],
   "source": [
    "clusters = 5\n",
    "random_state = 42\n",
    "for k in range(2, clusters):\n",
    "    with mlflow.start_run(experiment_id=experiment.experiment_id):\n",
    "        # Tracking Parameters\n",
    "        mlflow.log_param(\"n_clusters\", k)\n",
    "        mlflow.log_param(\"random_state\", random_state)\n",
    "\n",
    "        kmeans = KMeans(n_clusters=k, random_state=random_state)\n",
    "        kmeans.fit(X_scaled)\n",
    "        labels = kmeans.labels_\n",
    "\n",
    "        # Calculate and log metrics\n",
    "        inertia = kmeans.inertia_\n",
    "        silhouette_avg = silhouette_score(X_scaled, labels)\n",
    "        dunn_score = davies_bouldin_score(X_scaled, labels)\n",
    "\n",
    "        # Tracking Metrics\n",
    "        mlflow.log_metric(\"Inertia\", inertia)\n",
    "        mlflow.log_metric(\"Silhouette_Score\", silhouette_avg)\n",
    "        mlflow.log_metric(\"Dunn_Index\", dunn_score)\n",
    "\n",
    "        tracker.log_tags()\n",
    "\n",
    "        #Log model using infer_signature\n",
    "        signature = infer_signature(pd.DataFrame(X_scaled), kmeans.predict(X_scaled))\n",
    "        mlflow.sklearn.log_model(kmeans, \"kmeans_model_\"+str(k), signature=signature)\n"
   ]
  },
  {
   "cell_type": "code",
   "execution_count": 24,
   "id": "477c810e",
   "metadata": {},
   "outputs": [
    {
     "data": {
      "text/plain": [
       "{'client_name': 'Superintendencia de Transporte',\n",
       " 'commercial_sector': 'Transporte',\n",
       " 'model_programming_language': 'Python',\n",
       " 'planguage_version': 'python3.10',\n",
       " 'type_of_model': 'Modelo de Clusterización',\n",
       " 'compute': 'local',\n",
       " 'model_name': 'kmeans',\n",
       " 'repo_url_origin': 'https://gitlab.com/CAOBA-Central/consultorias/pruebas-concepto-sde/pocc-02-sde-transporte.git',\n",
       " 'dataset_url_raw_p1': 'https://gitlab.com/CAOBA-Central/productos-caoba/datalab/analitica-como-servicio/miscellaneous/mlflow/mlflow-pocc-sde/mlflow-pocc-02-transporte/-/tree/develop/demo2/data/raw?ref_type=heads',\n",
       " 'dataset_url_analytics_p1': 'https://gitlab.com/CAOBA-Central/productos-caoba/datalab/analitica-como-servicio/miscellaneous/mlflow/mlflow-pocc-sde/mlflow-pocc-02-transporte/-/tree/develop/demo2/data/analytics?ref_type=heads'}"
      ]
     },
     "execution_count": 24,
     "metadata": {},
     "output_type": "execute_result"
    }
   ],
   "source": [
    "tracker.tags\n"
   ]
  },
  {
   "cell_type": "markdown",
   "id": "bfef0341",
   "metadata": {},
   "source": [
    "## Step 5.1: Establishing Model Registry"
   ]
  },
  {
   "cell_type": "code",
   "execution_count": 25,
   "id": "140cfcf7",
   "metadata": {},
   "outputs": [
    {
     "name": "stderr",
     "output_type": "stream",
     "text": [
      "Successfully registered model 'kmeans_model_4_V1'.\n",
      "2023/10/18 16:40:07 INFO mlflow.tracking._model_registry.client: Waiting up to 300 seconds for model version to finish creation. Model name: kmeans_model_4_V1, version 1\n"
     ]
    },
    {
     "name": "stdout",
     "output_type": "stream",
     "text": [
      "<Run: data=<RunData: metrics={'Dunn_Index': 1.7993000319863348,\n",
      " 'Inertia': 149272.37728304684,\n",
      " 'Silhouette_Score': 0.17681422936050237}, params={'n_clusters': '4', 'random_state': '42'}, tags={'client_name': 'Superintendencia de Transporte',\n",
      " 'commercial_sector': 'Transporte',\n",
      " 'compute': 'local',\n",
      " 'dataset_url_analytics_p1': 'https://gitlab.com/CAOBA-Central/productos-caoba/datalab/analitica-como-servicio/miscellaneous/mlflow/mlflow-pocc-sde/mlflow-pocc-02-transporte/-/tree/develop/demo2/data/analytics?ref_type=heads',\n",
      " 'dataset_url_raw_p1': 'https://gitlab.com/CAOBA-Central/productos-caoba/datalab/analitica-como-servicio/miscellaneous/mlflow/mlflow-pocc-sde/mlflow-pocc-02-transporte/-/tree/develop/demo2/data/raw?ref_type=heads',\n",
      " 'mlflow.log-model.history': '[{\"run_id\": \"257d0daeb7d3432a88fd4694062734c3\", '\n",
      "                             '\"artifact_path\": \"kmeans_model_4\", '\n",
      "                             '\"utc_time_created\": \"2023-10-18 '\n",
      "                             '21:27:44.167986\", \"flavors\": {\"python_function\": '\n",
      "                             '{\"model_path\": \"model.pkl\", \"predict_fn\": '\n",
      "                             '\"predict\", \"loader_module\": \"mlflow.sklearn\", '\n",
      "                             '\"python_version\": \"3.10.13\", \"env\": {\"conda\": '\n",
      "                             '\"conda.yaml\", \"virtualenv\": \"python_env.yaml\"}}, '\n",
      "                             '\"sklearn\": {\"pickled_model\": \"model.pkl\", '\n",
      "                             '\"sklearn_version\": \"1.3.1\", '\n",
      "                             '\"serialization_format\": \"cloudpickle\", \"code\": '\n",
      "                             'null}}, \"model_uuid\": '\n",
      "                             '\"cb4d35edc7604071a5d8f19a98886e60\", '\n",
      "                             '\"mlflow_version\": \"2.7.1\", \"signature\": '\n",
      "                             '{\"inputs\": \"[{\\\\\"type\\\\\": \\\\\"double\\\\\", '\n",
      "                             '\\\\\"name\\\\\": 0}, {\\\\\"type\\\\\": \\\\\"double\\\\\", '\n",
      "                             '\\\\\"name\\\\\": 1}, {\\\\\"type\\\\\": \\\\\"double\\\\\", '\n",
      "                             '\\\\\"name\\\\\": 2}, {\\\\\"type\\\\\": \\\\\"double\\\\\", '\n",
      "                             '\\\\\"name\\\\\": 3}, {\\\\\"type\\\\\": \\\\\"double\\\\\", '\n",
      "                             '\\\\\"name\\\\\": 4}, {\\\\\"type\\\\\": \\\\\"double\\\\\", '\n",
      "                             '\\\\\"name\\\\\": 5}, {\\\\\"type\\\\\": \\\\\"double\\\\\", '\n",
      "                             '\\\\\"name\\\\\": 6}, {\\\\\"type\\\\\": \\\\\"double\\\\\", '\n",
      "                             '\\\\\"name\\\\\": 7}, {\\\\\"type\\\\\": \\\\\"double\\\\\", '\n",
      "                             '\\\\\"name\\\\\": 8}, {\\\\\"type\\\\\": \\\\\"double\\\\\", '\n",
      "                             '\\\\\"name\\\\\": 9}]\", \"outputs\": \"[{\\\\\"type\\\\\": '\n",
      "                             '\\\\\"tensor\\\\\", \\\\\"tensor-spec\\\\\": {\\\\\"dtype\\\\\": '\n",
      "                             '\\\\\"int32\\\\\", \\\\\"shape\\\\\": [-1]}}]\", \"params\": '\n",
      "                             'null}}]',\n",
      " 'mlflow.runName': 'hilarious-seal-167',\n",
      " 'mlflow.source.git.commit': '32dfdae11325e4de1013355c2732c154883eaa18',\n",
      " 'mlflow.source.name': '/Users/camilamv/Downloads/PyDayCali/pydaycali2023-mlops-/.venv/lib/python3.10/site-packages/ipykernel_launcher.py',\n",
      " 'mlflow.source.type': 'LOCAL',\n",
      " 'mlflow.user': 'camilamv',\n",
      " 'model_name': 'kmeans',\n",
      " 'model_programming_language': 'Python',\n",
      " 'planguage_version': 'python3.10',\n",
      " 'repo_url_origin': 'https://gitlab.com/CAOBA-Central/consultorias/pruebas-concepto-sde/pocc-02-sde-transporte.git',\n",
      " 'type_of_model': 'Modelo de Clusterización'}>, info=<RunInfo: artifact_uri='mlflow-artifacts:/995934375049530325/257d0daeb7d3432a88fd4694062734c3/artifacts', end_time=1697664465758, experiment_id='995934375049530325', lifecycle_stage='active', run_id='257d0daeb7d3432a88fd4694062734c3', run_name='hilarious-seal-167', run_uuid='257d0daeb7d3432a88fd4694062734c3', start_time=1697664459227, status='FINISHED', user_id='camilamv'>, inputs=<RunInputs: dataset_inputs=[]>>\n",
      "mlflow-artifacts:/995934375049530325/257d0daeb7d3432a88fd4694062734c3/artifacts\n",
      "runs:/257d0daeb7d3432a88fd4694062734c3/kmeans_model_4\n",
      "Model registered: <ModelVersion: aliases=[], creation_timestamp=1697665207910, current_stage='None', description='', last_updated_timestamp=1697665207910, name='kmeans_model_4_V1', run_id='257d0daeb7d3432a88fd4694062734c3', run_link='', source='mlflow-artifacts:/995934375049530325/257d0daeb7d3432a88fd4694062734c3/artifacts/kmeans_model_4', status='READY', status_message='', tags={}, user_id='', version='1'>\n"
     ]
    },
    {
     "name": "stderr",
     "output_type": "stream",
     "text": [
      "Created version '1' of model 'kmeans_model_4_V1'.\n"
     ]
    }
   ],
   "source": [
    "# # Registrar el modelo\n",
    "model_name = \"kmeans_model_4\"\n",
    "run_id = \"257d0daeb7d3432a88fd4694062734c3\"\n",
    "registered_model_name=\"kmeans_model_4_V1\"\n",
    "\n",
    "# Get the run object using the run_id\n",
    "run_info = mlflow.get_run(run_id)\n",
    "\n",
    "# Retrieve the artifact path for the run\n",
    "artifact_uri = run_info.info.artifact_uri\n",
    "model_uri=f\"runs:/{run_id}/{model_name}\"\n",
    "\n",
    "print(run_info)\n",
    "print(artifact_uri)\n",
    "print(model_uri)\n",
    "\n",
    "# Register the model using the artifact path\n",
    "registered_model = mlflow.register_model(\n",
    "model_uri=f\"runs:/{run_id}/{model_name}\",\n",
    "name=registered_model_name,\n",
    "await_registration_for=300  # Optional: Wait for up to 5 minutes (300 seconds) for registration completion\n",
    ")\n",
    "\n",
    "print(f\"Model registered: {registered_model}\")\n"
   ]
  },
  {
   "cell_type": "code",
   "execution_count": 19,
   "id": "93e625b1",
   "metadata": {},
   "outputs": [
    {
     "name": "stdout",
     "output_type": "stream",
     "text": [
      "Name: 01B4_MFlow_LR_train\n",
      "Experiment_id: 24\n",
      "Artifact Location: s3://mlflow-artifact-store-awscday/24\n",
      "Tags: {}\n",
      "Lifecycle_stage: active\n"
     ]
    }
   ],
   "source": []
  },
  {
   "cell_type": "markdown",
   "id": "aa39ccce",
   "metadata": {},
   "source": [
    "## Step 5.2: Changing the stage of the registered model"
   ]
  },
  {
   "cell_type": "code",
   "execution_count": null,
   "id": "d8f74112",
   "metadata": {},
   "outputs": [],
   "source": []
  },
  {
   "cell_type": "code",
   "execution_count": null,
   "id": "0faebd70",
   "metadata": {},
   "outputs": [],
   "source": []
  },
  {
   "cell_type": "markdown",
   "id": "5282892d",
   "metadata": {},
   "source": [
    "# Conclusions"
   ]
  },
  {
   "cell_type": "code",
   "execution_count": null,
   "id": "68471a08",
   "metadata": {},
   "outputs": [],
   "source": []
  },
  {
   "cell_type": "markdown",
   "id": "b85cdadb",
   "metadata": {},
   "source": [
    "# References"
   ]
  },
  {
   "cell_type": "code",
   "execution_count": null,
   "id": "193826bc",
   "metadata": {},
   "outputs": [],
   "source": []
  },
  {
   "cell_type": "code",
   "execution_count": null,
   "id": "bda0894d",
   "metadata": {},
   "outputs": [],
   "source": []
  },
  {
   "cell_type": "code",
   "execution_count": null,
   "id": "147f63ff",
   "metadata": {},
   "outputs": [],
   "source": []
  },
  {
   "cell_type": "markdown",
   "id": "8e146013",
   "metadata": {},
   "source": [
    "# Other key functions and Info"
   ]
  },
  {
   "cell_type": "code",
   "execution_count": 248,
   "id": "2578bab2",
   "metadata": {},
   "outputs": [
    {
     "name": "stdout",
     "output_type": "stream",
     "text": [
      "%% Experiments by the name: 02B_MFlow_LR_train are: 0\n",
      "%% Making loop over experiments list \n",
      "\n"
     ]
    }
   ],
   "source": [
    "def assert_experiment_names_equal(experiments, expected_names):\n",
    "    actual_names = [e.name for e in experiments if e.name != \"Default\"]\n",
    "    assert actual_names == expected_names, (actual_names, expected_names)\n",
    "\n",
    "search_name='02B_MFlow_LR_train'\n",
    "# Search for experiments with full_name\n",
    "experiments = mlflow.search_experiments(filter_string=\"name = '02B_MFlow_LR_train'\")\n",
    "#assert_experiment_names_equal(experiments, [search_name])\n",
    "\n",
    "print(f'%% Experiments by the name: {search_name} are: {len(experiments)}')\n",
    "print(f'%% Making loop over experiments list \\n')\n",
    "for element in experiments:\n",
    "    print(\"Name: {}\".format(element.name))\n",
    "    print(\"Experiment_id: {}\".format(element.experiment_id))\n",
    "    print(\"Artifact Location: {}\".format(element.artifact_location))\n",
    "    print(\"Tags: {}\".format(element.tags))\n",
    "    print(\"Lifecycle_stage: {}\".format(element.lifecycle_stage))\n",
    "    print(\"Creation timestamp: {}\".format(element.creation_time))\n"
   ]
  },
  {
   "cell_type": "code",
   "execution_count": 249,
   "id": "ddbe52d9",
   "metadata": {},
   "outputs": [
    {
     "name": "stdout",
     "output_type": "stream",
     "text": [
      "The experiment is active.\n"
     ]
    }
   ],
   "source": [
    "import mlflow\n",
    "\n",
    "# Specify the name of the experiment you want to check\n",
    "experiment_name = \"02B2_MFlow_LR_train\"\n",
    "\n",
    "# Get the experiment by name\n",
    "experiment = mlflow.get_experiment_by_name(experiment_name)\n",
    "\n",
    "# Check if the experiment exists and if it is active\n",
    "if experiment is not None and experiment.lifecycle_stage == \"active\":\n",
    "    print(\"The experiment is active.\")\n",
    "else:\n",
    "    print(\"The experiment is either not found or not active.\")\n"
   ]
  },
  {
   "cell_type": "code",
   "execution_count": 243,
   "id": "8aae1abf",
   "metadata": {},
   "outputs": [],
   "source": [
    "# # Construct a Pandas DataFrame using iris flower data from a web URL\n",
    "# dataset_source_url = \"http://archive.ics.uci.edu/ml/machine-learning-databases/wine-quality/winequality-red.csv\"\n",
    "# df = pd.read_csv(dataset_source_url)\n",
    "# # Construct an MLflow PandasDataset from the Pandas DataFrame, and specify the web URL\n",
    "# # as the source\n",
    "# dataset = mlflow.data.pandas_dataset.from_pandas(df, source=dataset_source_url)\n",
    "\n",
    "# with mlflow.start_run(experiment_id=experiment_id):\n",
    "#     # Log the dataset to the MLflow Run. Specify the \"training\" context to indicate that the\n",
    "#     # dataset is used for model training\n",
    "#     mlflow.log_input(dataset, context=\"training\")\n",
    "\n",
    "# # Retrieve the run, including dataset information\n",
    "# run = mlflow.get_run(mlflow.last_active_run().info.run_id)\n",
    "# dataset_info = run.inputs.dataset_inputs[0].dataset\n",
    "# print(f\"Dataset name: {dataset_info.name}\")\n",
    "# print(f\"Dataset digest: {dataset_info.digest}\")\n",
    "# print(f\"Dataset profile: {dataset_info.profile}\")\n",
    "# print(f\"Dataset schema: {dataset_info.schema}\")\n"
   ]
  },
  {
   "cell_type": "code",
   "execution_count": 245,
   "id": "f8d92b3e",
   "metadata": {},
   "outputs": [],
   "source": [
    "# import mlflow\n",
    "\n",
    "# from sklearn.model_selection import train_test_split\n",
    "# from sklearn.datasets import load_diabetes\n",
    "# from sklearn.ensemble import RandomForestRegressor\n",
    "\n",
    "# mlflow.autolog()\n",
    "\n",
    "# db = load_diabetes()\n",
    "# X_train, X_test, y_train, y_test = train_test_split(db.data, db.target)\n",
    "\n",
    "# # Create and train models.\n",
    "# rf = RandomForestRegressor(n_estimators=100, max_depth=6, max_features=3)\n",
    "# rf.fit(X_train, y_train)\n",
    "\n",
    "# # Use the model to make predictions on the test dataset.\n",
    "# predictions = rf.predict(X_test)\n",
    "# autolog_run = mlflow.last_active_run()\n",
    "\n",
    "# mlflow.end_run()\n"
   ]
  },
  {
   "cell_type": "code",
   "execution_count": 246,
   "id": "ddc1c350",
   "metadata": {},
   "outputs": [],
   "source": [
    "#client = mlflow.MlflowClient()\n",
    "#data = client.get_run(mlflow.active_run().info.run_id).data\n"
   ]
  },
  {
   "cell_type": "code",
   "execution_count": null,
   "id": "72b55c0d",
   "metadata": {},
   "outputs": [],
   "source": [
    "# experiment_name_formlflow=\"01B3_MFlow_LR_train\"\n",
    "# #Set an experiment name, which must be unique and case sensitive\n",
    "# experiment_id = mlflow.set_experiment(\n",
    "#     experiment_name_formlflow\n",
    "# )\n",
    "\n",
    "# print(type(experiment_id),experiment_id.experiment_id)\n",
    "\n",
    "# from mlflow import MlflowClient\n",
    "\n",
    "# # Create an experiment with a name that is unique and case sensitive.\n",
    "# client = MlflowClient()\n",
    "\n",
    "# experiment_id=experiment_id.experiment_id\n",
    "# # Fetch experiment metadata information\n",
    "# experiment = client.get_experiment(experiment_id)\n",
    "# print(\"Name: {}\".format(experiment.name))\n",
    "# print(\"Experiment_id: {}\".format(experiment.experiment_id))\n",
    "# print(\"Artifact Location: {}\".format(experiment.artifact_location))\n",
    "# print(\"Tags: {}\".format(experiment.tags))\n",
    "# print(\"Lifecycle_stage: {}\".format(experiment.lifecycle_stage))\n",
    "\n",
    "\n",
    "# import json\n",
    "# import plotly.express as px\n",
    "# import mlflow\n",
    "# import requests\n",
    "\n",
    "# ### prepare sample files to log\n",
    "# # test data\n",
    "# df = px.data.iris()\n",
    "\n",
    "# # sample CSV file\n",
    "# df.to_csv(\"1_data_sample.csv\")\n",
    "\n",
    "# # sample pandas HTML file\n",
    "# df.to_html(\"2_data_sample.html\")\n",
    "\n",
    "# # sample image\n",
    "# r = requests.get(\"https://upload.wikimedia.org/wikipedia/en/7/7d/Lenna_%28test_image%29.png\")\n",
    "# with open(\"3_image_sample.png\", 'wb') as f:\n",
    "#     f.write(r.content)\n",
    "\n",
    "# # sample gif\n",
    "# r = requests.get(\"https://media1.giphy.com/media/bU3YVJAAXckCI/giphy.gif\")\n",
    "# with open(\"4_gif_sample.gif\", 'wb') as f:\n",
    "#     f.write(r.content)\n",
    "\n",
    "# # sample plotly plot - HTML\n",
    "# fig = px.scatter(df, x=\"sepal_width\", y=\"sepal_length\", color=\"species\", marginal_y=\"rug\", marginal_x=\"histogram\")\n",
    "# fig.write_html(\"5_plot_sample.html\")\n",
    "\n",
    "# # sample geojson\n",
    "# with open(\"6_map_sample.geojson\", \"w+\") as f:\n",
    "#     data = requests.get(\"https://gist.githubusercontent.com/wavded/1200773/raw/e122cf709898c09758aecfef349964a8d73a83f3/sample.json\").json()\n",
    "#     f.write(json.dumps(data))\n",
    "\n",
    "# ### log files to mlflow experiment\n",
    "# with mlflow.start_run(experiment_id=experiment_id, run_name=\"file_display\") as run:\n",
    "\n",
    "#     mlflow.log_param(\"parameter\",\"test\")\n",
    "#     mlflow.log_metric(\"the_answer\",42.0)\n",
    "\n",
    "#     mlflow.log_artifact(\"./1_data_sample.csv\")\n",
    "#     mlflow.log_artifact(\"./2_data_sample.html\")\n",
    "#     mlflow.log_artifact(\"./3_image_sample.png\")\n",
    "#     mlflow.log_artifact(\"./4_gif_sample.gif\")\n",
    "#     mlflow.log_artifact(\"./5_plot_sample.html\")\n",
    "#     mlflow.log_artifact(\"./6_map_sample.geojson\")\n"
   ]
  }
 ],
 "metadata": {
  "kernelspec": {
   "display_name": "Python 3",
   "language": "python",
   "name": "python3"
  },
  "language_info": {
   "codemirror_mode": {
    "name": "ipython",
    "version": 3
   },
   "file_extension": ".py",
   "mimetype": "text/x-python",
   "name": "python",
   "nbconvert_exporter": "python",
   "pygments_lexer": "ipython3",
   "version": "3.10.13"
  }
 },
 "nbformat": 4,
 "nbformat_minor": 5
}
