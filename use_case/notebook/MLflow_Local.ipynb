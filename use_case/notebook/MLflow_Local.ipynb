{
 "cells": [
  {
   "cell_type": "markdown",
   "id": "73a09110",
   "metadata": {},
   "source": [
    "# Table of Contents\n",
    "\n",
    "* [Notebook Scenario](#1)\n",
    "* [Using MLflowUtils class created for the context of Use Case - Alianza Caoba](#2)\n",
    "* [Demo Steps](#3)\n",
    "* [Conclusions](#4)\n",
    "* [References](#5)"
   ]
  },
  {
   "cell_type": "markdown",
   "id": "human-marks",
   "metadata": {},
   "source": [
    "# Notebook Scenario\n",
    "> Nota: Este Jupyter Notebook en la mayor medida esta en Ingles. Se encuentra en español las partes del contexto y habra comentarios con spanglish. ;)\n",
    "\n",
    "**Customer Challenge**\n",
    "The Transportation Superintendence has a portal for receiving transportation-related PQRs. However, they receive around 3000 PQRs per month, and the response is handled manually, causing a delay of up to 2.5 months in resolving and closing cases.\n",
    "\n",
    "**Proposed solution**\n",
    "The proposed solution is a classification model that allows determining the criticality level of each PQR, enabling prioritized responses for each case. 🚀🔍"
   ]
  },
  {
   "cell_type": "markdown",
   "id": "30234859",
   "metadata": {},
   "source": [
    "# Using MLflowUtils class created for the context of Use Case - Alianza Caoba"
   ]
  },
  {
   "cell_type": "code",
   "execution_count": 4,
   "id": "annoying-sociology",
   "metadata": {},
   "outputs": [],
   "source": [
    "#mlflow_utils.py\n",
    "\n",
    "import json\n",
    "import mlflow\n",
    "from mlflow.models.signature import infer_signature\n",
    "from mlflow.tracking import MlflowClient\n",
    "from pathlib import Path\n",
    "\n",
    "class MLFlowUtils:\n",
    "    \"\"\"\n",
    "    :Date: 27-07-2023\n",
    "    :Version: 0.1\n",
    "    :Author: Centro de Excelencia y Apropiación de Big Data y Data Analytics - CAOBA\n",
    "    :Organization: Centro de Excelencia y Apropiación de Big Data y Data Analytics - CAOBA\n",
    "    \"\"\"\n",
    "    def __init__(self, config_name = None):\n",
    "        config_path = Path(\"../config/experiment_config.json\")\n",
    "        with open(config_path, 'r', encoding='utf-8') as file:\n",
    "            self.config = json.load(file)[config_name]\n",
    "\n",
    "        self.params = self.config.get(\"params\", {})\n",
    "        self.tags = self.config.get(\"tags\", {})\n",
    "\n",
    "        #self.experiment_name = self.config.get(\"experiment_name\")\n",
    "        #mlflow.set_experiment(self.experiment_name)\n",
    "\n",
    "    def log_params(self):\n",
    "        \"\"\"Registra los parámetros en MLflow\"\"\"\n",
    "        mlflow.log_params(self.params)\n",
    "\n",
    "    def log_tags(self):\n",
    "        \"\"\"Registra los tags en MLflow\"\"\"\n",
    "        mlflow.set_tags(self.tags)\n",
    "\n",
    "    def log_model(self, model, artifact_path, signature=None):\n",
    "        if signature:\n",
    "            mlflow.sklearn.log_model(model, artifact_path, signature=signature)\n",
    "        else:\n",
    "            mlflow.sklearn.log_model(model, artifact_path)\n",
    "\n",
    "    def log_metrics(self, metrics):\n",
    "        for key, value in metrics.items():\n",
    "            mlflow.log_metric(key, value)\n",
    "\n",
    "    def log_artifact(self, artifact_path):\n",
    "        mlflow.log_artifact(artifact_path)\n",
    "\n",
    "    def end_run(self):\n",
    "        mlflow.end_run()\n",
    "\n",
    "    def load_model(self, run_id, artifact_path):\n",
    "        \"\"\"Carga un modelo desde MLflow basado en run_id y artifact_path.\"\"\"\n",
    "        logged_model = f\"runs:/{run_id}/{artifact_path}\"\n",
    "        return mlflow.sklearn.load_model(logged_model)\n",
    "\n",
    "    def register_model(self, run_id, artifact_path, model_name):\n",
    "        \"\"\"Registra el modelo en MLflow.\"\"\"\n",
    "        model_uri = f\"runs:/{run_id}/{artifact_path}\"\n",
    "        mlflow.register_model(model_uri, model_name)\n",
    "\n",
    "        # Devuelve la última versión del modelo registrado\n",
    "        client = MlflowClient()\n",
    "        model_version_details = client.get_latest_versions(model_name, stages=[\"None\"])\n",
    "        if model_version_details:\n",
    "            return model_version_details[0].version\n",
    "        return None\n",
    "\n",
    "    def set_model_stage(self, model_name, version, stage):\n",
    "        client = MlflowClient()\n",
    "        client.transition_model_version_stage(name=model_name, version=version, stage=stage)\n"
   ]
  },
  {
   "cell_type": "code",
   "execution_count": 5,
   "id": "b911a5e1",
   "metadata": {},
   "outputs": [],
   "source": [
    "#dir(MLFlowUtils)\n"
   ]
  },
  {
   "cell_type": "markdown",
   "id": "4f8c6131",
   "metadata": {},
   "source": [
    "# Step 3.1 Setting up MLflow URI and Experiment Name in order to track from Kmeans-pocc-02-transporte "
   ]
  },
  {
   "cell_type": "code",
   "execution_count": 6,
   "id": "strategic-parameter",
   "metadata": {},
   "outputs": [
    {
     "name": "stdout",
     "output_type": "stream",
     "text": [
      "url_uri used is: http://localhost:5000\n",
      "The experiment to configure is: puj-202301-poc-02-sde-transporte-test1\n",
      "Experiment_id: 461238389451589685\n",
      "Artifact Location: mlflow-artifacts:/461238389451589685\n",
      "Tags: {}\n",
      "Lifecycle_stage: active\n",
      "Creation timestamp: 1697824893719\n"
     ]
    }
   ],
   "source": [
    "#Modelo_KMeans.py\n",
    "\n",
    "#General Libraries\n",
    "import os\n",
    "import sys\n",
    "import numpy as np\n",
    "import pandas as pd\n",
    "import json\n",
    "import joblib\n",
    "from pathlib import Path\n",
    "from datetime import datetime\n",
    "\n",
    "#Analytics Libraries\n",
    "from sklearn.cluster import KMeans\n",
    "from sklearn.metrics import silhouette_score, davies_bouldin_score\n",
    "from sklearn.preprocessing import StandardScaler\n",
    "\n",
    "#MLflow libraries\n",
    "import mlflow\n",
    "from mlflow.tracking import MlflowClient\n",
    "from mlflow.models.signature import infer_signature\n",
    "from mlflow.pyfunc import PythonModel\n",
    "\n",
    "def cargar_datos():\n",
    "    \"\"\"Carga los datos desde un archivo CSV.\"\"\"\n",
    "    camino = Path('../data/raw/pqr_with_variables_for_Kmeans.csv')\n",
    "    data = pd.read_csv(camino)\n",
    "    return data\n",
    "\n",
    "def procesar_datos(data):\n",
    "    \"\"\"Procesa los datos para el modelo KMeans.\"\"\"\n",
    "    data['FECHA_RADICADO'] = pd.to_datetime(data['FECHA_RADICADO'], errors='coerce', format='%Y-%m-%d')\n",
    "    hoy = datetime.now()\n",
    "    data['dias'] = (hoy - data['FECHA_RADICADO']).dt.days\n",
    "    X = data[['Cantidad Bigramas', 'Cantidad Trigramas', 'Topico', 'Cantidad Verbos', 'Cantidad Adjetivos', 'Cantidad Adverbios', 'Cantidad Sustantivos', 'Cantidad_Palabras', 'Promedio_Palabras', 'DIVERSIDAD_LEXICA']]\n",
    "    scaler = StandardScaler()\n",
    "    X_scaled = scaler.fit_transform(X)\n",
    "    return X_scaled\n",
    "\n",
    "def entrenar_kmeans(X, n_clusters):\n",
    "    \"\"\"Entrena el modelo KMeans con un número determinado de clusters.\"\"\"\n",
    "    kmeans = KMeans(n_clusters=n_clusters, random_state=42)\n",
    "    kmeans.fit(X)\n",
    "    labels = kmeans.labels_\n",
    "    return kmeans, labels\n",
    "\n",
    "def asignar_criticidad(cluster):\n",
    "    \"\"\"Asigna una criticidad basada en el cluster.\"\"\"\n",
    "    if cluster == 0:\n",
    "        return \"alta\"\n",
    "    elif cluster == 1:\n",
    "        return \"media\"\n",
    "    elif cluster == 2:\n",
    "        return \"baja\"\n",
    "    else:\n",
    "        return \"muy baja\"\n",
    "\n",
    "def guardar_datos(data):\n",
    "    \"\"\"Guarda los datos con la criticidad en un archivo CSV.\"\"\"\n",
    "    data.to_csv(Path(\"../data/analytics/dataPredicciones.csv\"), index=False)\n",
    "\n",
    "def guardar_modelo_kmeans(modelo, path_modelo):\n",
    "    \"\"\"Guarda el modelo en un archivo .pkl.\"\"\"\n",
    "    joblib.dump(modelo, path_modelo)\n",
    "\n",
    "if __name__ == \"__main__\":\n",
    "    url_uri = \"http://localhost:5000\"\n",
    "    experiment_name = \"puj-202301-poc-02-sde-transporte-test1\"\n",
    "\n",
    "    # Setting tracking uri in localhost\n",
    "    mlflow.set_tracking_uri(url_uri)\n",
    "\n",
    "    print(f'url_uri used is: {url_uri}')\n",
    "    print(f'The experiment to configure is: {experiment_name}')\n",
    "\n",
    "    # Setting experiment name in localhost URI\n",
    "    mlflow.set_experiment(experiment_name)\n",
    "    experiment = mlflow.get_experiment_by_name(experiment_name)\n",
    "\n",
    "    print(\"Experiment_id: {}\".format(experiment.experiment_id))\n",
    "    print(\"Artifact Location: {}\".format(experiment.artifact_location))\n",
    "    print(\"Tags: {}\".format(experiment.tags))\n",
    "    print(\"Lifecycle_stage: {}\".format(experiment.lifecycle_stage))\n",
    "    print(\"Creation timestamp: {}\".format(experiment.creation_time))\n"
   ]
  },
  {
   "cell_type": "markdown",
   "id": "2cec0272",
   "metadata": {},
   "source": [
    "# Step 3.2: Setting up tags from config/experiment_config using in-house component MLflowUtils"
   ]
  },
  {
   "cell_type": "code",
   "execution_count": 7,
   "id": "liable-diameter",
   "metadata": {},
   "outputs": [],
   "source": [
    "#Using MLFLowUtils module to set tags and params\n",
    "\n",
    "tracker = MLFlowUtils(config_name=\"Modelo_KMeans\")\n",
    "\n",
    "# Loading and processing data\n",
    "data = cargar_datos()\n",
    "X_scaled = procesar_datos(data)\n"
   ]
  },
  {
   "cell_type": "code",
   "execution_count": 8,
   "id": "79fa67e0",
   "metadata": {},
   "outputs": [
    {
     "name": "stdout",
     "output_type": "stream",
     "text": [
      "<class 'pandas.core.frame.DataFrame'>\n",
      "RangeIndex: 24358 entries, 0 to 24357\n",
      "Data columns (total 28 columns):\n",
      " #   Column                Non-Null Count  Dtype         \n",
      "---  ------                --------------  -----         \n",
      " 0   #                     24358 non-null  int64         \n",
      " 1   DESCRIPCION_HECHOS    24352 non-null  object        \n",
      " 2   RADICADO ENTRADA      24358 non-null  int64         \n",
      " 3   Modo                  10179 non-null  object        \n",
      " 4   Motivo                10179 non-null  object        \n",
      " 5   MEDIO_RECEPCION       24358 non-null  object        \n",
      " 6   TIPO_PQR              24343 non-null  object        \n",
      " 7   FECHA_RADICADO        24358 non-null  datetime64[ns]\n",
      " 8   Textos Lematizados    24357 non-null  object        \n",
      " 9   Verbos                24358 non-null  object        \n",
      " 10  Adjetivos             24358 non-null  object        \n",
      " 11  Adverbios             24358 non-null  object        \n",
      " 12  Sustantivos           24358 non-null  object        \n",
      " 13  Bigramas              24358 non-null  object        \n",
      " 14  Trigramas             24358 non-null  object        \n",
      " 15  Cantidad Bigramas     24358 non-null  int64         \n",
      " 16  Cantidad Trigramas    24358 non-null  int64         \n",
      " 17  Cantidad Verbos       24358 non-null  int64         \n",
      " 18  Cantidad Adjetivos    24358 non-null  int64         \n",
      " 19  Cantidad Adverbios    24358 non-null  int64         \n",
      " 20  Cantidad Sustantivos  24358 non-null  int64         \n",
      " 21  Cantidad_Palabras     24358 non-null  int64         \n",
      " 22  Promedio_Palabras     24358 non-null  int64         \n",
      " 23  DIVERSIDAD_LEXICA     24358 non-null  float64       \n",
      " 24  Cantidad_Stop_Words   24358 non-null  int64         \n",
      " 25  Topico                24358 non-null  int64         \n",
      " 26  TipoPQRClasificado    24358 non-null  object        \n",
      " 27  dias                  24358 non-null  int64         \n",
      "dtypes: datetime64[ns](1), float64(1), int64(13), object(13)\n",
      "memory usage: 5.2+ MB\n"
     ]
    }
   ],
   "source": [
    "data.info()\n"
   ]
  },
  {
   "cell_type": "code",
   "execution_count": 9,
   "id": "painful-diagnosis",
   "metadata": {},
   "outputs": [
    {
     "name": "stdout",
     "output_type": "stream",
     "text": [
      "Portion of the X_scaled that is type: <class 'numpy.ndarray'>\n",
      "[[-0.89334889 -0.90238409]]\n"
     ]
    }
   ],
   "source": [
    "# Print a portion of the array\n",
    "print(f\"Portion of the X_scaled that is type: {type(X_scaled)}\")\n",
    "print(X_scaled[:1, :2])  # Prints the first row and first two columns of the array\n"
   ]
  },
  {
   "cell_type": "markdown",
   "id": "bff43cfd",
   "metadata": {},
   "source": [
    "# Step 4: Running MLflow over data to tracked best model of Kmeans"
   ]
  },
  {
   "cell_type": "code",
   "execution_count": 10,
   "id": "11594a12",
   "metadata": {},
   "outputs": [
    {
     "name": "stderr",
     "output_type": "stream",
     "text": [
      "/Users/camilamv/Downloads/PyDayCali/pydaycali2023-mlops-/use_case/venv/lib/python3.10/site-packages/sklearn/cluster/_kmeans.py:1416: FutureWarning: The default value of `n_init` will change from 10 to 'auto' in 1.4. Set the value of `n_init` explicitly to suppress the warning\n",
      "  super()._check_params_vs_input(X, default_n_init=10)\n",
      "/Users/camilamv/Downloads/PyDayCali/pydaycali2023-mlops-/use_case/venv/lib/python3.10/site-packages/sklearn/cluster/_kmeans.py:1416: FutureWarning: The default value of `n_init` will change from 10 to 'auto' in 1.4. Set the value of `n_init` explicitly to suppress the warning\n",
      "  super()._check_params_vs_input(X, default_n_init=10)\n",
      "/Users/camilamv/Downloads/PyDayCali/pydaycali2023-mlops-/use_case/venv/lib/python3.10/site-packages/_distutils_hack/__init__.py:18: UserWarning: Distutils was imported before Setuptools, but importing Setuptools also replaces the `distutils` module in `sys.modules`. This may lead to undesirable behaviors or errors. To avoid these issues, avoid using distutils directly, ensure that setuptools is installed in the traditional way (e.g. not an editable install), and/or make sure that setuptools is always imported before distutils.\n",
      "  warnings.warn(\n",
      "/Users/camilamv/Downloads/PyDayCali/pydaycali2023-mlops-/use_case/venv/lib/python3.10/site-packages/_distutils_hack/__init__.py:33: UserWarning: Setuptools is replacing distutils.\n",
      "  warnings.warn(\"Setuptools is replacing distutils.\")\n",
      "/Users/camilamv/Downloads/PyDayCali/pydaycali2023-mlops-/use_case/venv/lib/python3.10/site-packages/sklearn/cluster/_kmeans.py:1416: FutureWarning: The default value of `n_init` will change from 10 to 'auto' in 1.4. Set the value of `n_init` explicitly to suppress the warning\n",
      "  super()._check_params_vs_input(X, default_n_init=10)\n",
      "/Users/camilamv/Downloads/PyDayCali/pydaycali2023-mlops-/use_case/venv/lib/python3.10/site-packages/_distutils_hack/__init__.py:18: UserWarning: Distutils was imported before Setuptools, but importing Setuptools also replaces the `distutils` module in `sys.modules`. This may lead to undesirable behaviors or errors. To avoid these issues, avoid using distutils directly, ensure that setuptools is installed in the traditional way (e.g. not an editable install), and/or make sure that setuptools is always imported before distutils.\n",
      "  warnings.warn(\n",
      "/Users/camilamv/Downloads/PyDayCali/pydaycali2023-mlops-/use_case/venv/lib/python3.10/site-packages/_distutils_hack/__init__.py:33: UserWarning: Setuptools is replacing distutils.\n",
      "  warnings.warn(\"Setuptools is replacing distutils.\")\n"
     ]
    }
   ],
   "source": [
    "clusters = 5\n",
    "random_state = 42\n",
    "for k in range(2, clusters):\n",
    "    with mlflow.start_run(experiment_id=experiment.experiment_id):\n",
    "        # Tracking Parameters\n",
    "        mlflow.log_param(\"n_clusters\", k)\n",
    "        mlflow.log_param(\"random_state\", random_state)\n",
    "\n",
    "        kmeans = KMeans(n_clusters=k, random_state=random_state)\n",
    "        kmeans.fit(X_scaled)\n",
    "        labels = kmeans.labels_\n",
    "\n",
    "        # Calculate and log metrics\n",
    "        inertia = kmeans.inertia_\n",
    "        silhouette_avg = silhouette_score(X_scaled, labels)\n",
    "        dunn_score = davies_bouldin_score(X_scaled, labels)\n",
    "\n",
    "        # Tracking Metrics\n",
    "        mlflow.log_metric(\"Inertia\", inertia)\n",
    "        mlflow.log_metric(\"Silhouette_Score\", silhouette_avg)\n",
    "        mlflow.log_metric(\"Dunn_Index\", dunn_score)\n",
    "\n",
    "        tracker.log_tags()\n",
    "\n",
    "        #Log model using infer_signature\n",
    "        signature = infer_signature(pd.DataFrame(X_scaled), kmeans.predict(X_scaled))\n",
    "        mlflow.sklearn.log_model(kmeans, \"kmeans_model_\"+str(k), signature=signature)\n",
    "\n",
    "#Note: You can use mlflow.autolog()\n",
    "#Read more in this link: https://mathdatasimplified.com/2023/10/20/streamlinw-experiment-logs-with-mlflows-auto-logging/"
   ]
  },
  {
   "cell_type": "markdown",
   "id": "7e97ed11-515a-401a-9502-79d607df6d85",
   "metadata": {},
   "source": [
    ">Note: You can use mlflow.autolog()\n",
    "\n",
    ">Read more in this link: [Streamline Experiment Logs with MLFlow's Auto-Logging](https://mathdatasimplified.com/2023/10/20/streamlinw-experiment-logs-with-mlflows-auto-logging/)"
   ]
  },
  {
   "cell_type": "code",
   "execution_count": 11,
   "id": "477c810e",
   "metadata": {},
   "outputs": [
    {
     "data": {
      "text/plain": [
       "{'client_name': 'Superintendencia de Transporte',\n",
       " 'commercial_sector': 'Transporte',\n",
       " 'model_programming_language': 'Python',\n",
       " 'planguage_version': 'python3.10',\n",
       " 'type_of_model': 'Modelo de Clusterización',\n",
       " 'compute': 'local',\n",
       " 'model_name': 'kmeans',\n",
       " 'repo_url_origin': 'https://gitlab.com/CAOBA-Central/consultorias/pruebas-concepto-sde/pocc-02-sde-transporte.git',\n",
       " 'dataset_url_raw_p1': 'https://gitlab.com/CAOBA-Central/productos-caoba/datalab/analitica-como-servicio/miscellaneous/mlflow/mlflow-pocc-sde/mlflow-pocc-02-transporte/-/tree/develop/demo2/data/raw?ref_type=heads',\n",
       " 'dataset_url_analytics_p1': 'https://gitlab.com/CAOBA-Central/productos-caoba/datalab/analitica-como-servicio/miscellaneous/mlflow/mlflow-pocc-sde/mlflow-pocc-02-transporte/-/tree/develop/demo2/data/analytics?ref_type=heads'}"
      ]
     },
     "execution_count": 11,
     "metadata": {},
     "output_type": "execute_result"
    }
   ],
   "source": [
    "tracker.tags"
   ]
  },
  {
   "cell_type": "markdown",
   "id": "bfef0341",
   "metadata": {},
   "source": [
    "# Step 5.1: Establishing Model Registry"
   ]
  },
  {
   "cell_type": "code",
   "execution_count": 12,
   "id": "140cfcf7",
   "metadata": {},
   "outputs": [
    {
     "name": "stdout",
     "output_type": "stream",
     "text": [
      "runs:/5f787482048f4aac98afd8eaf6a6f463/kmeans_model_4\n"
     ]
    }
   ],
   "source": [
    "# # Registrar el modelo\n",
    "model_name = \"kmeans_model_4\"\n",
    "run_id = \"5f787482048f4aac98afd8eaf6a6f463\"\n",
    "registered_model_name=\"kmeans_model_4_V1\"\n",
    "\n",
    "# Get the run object using the run_id\n",
    "run_info = mlflow.get_run(run_id)\n",
    "\n",
    "# Retrieve the artifact path for the run\n",
    "artifact_uri = run_info.info.artifact_uri\n",
    "model_uri=f\"runs:/{run_id}/{model_name}\"\n",
    "\n",
    "#print(run_info)\n",
    "#print(artifact_uri)\n",
    "print(model_uri)\n"
   ]
  },
  {
   "cell_type": "code",
   "execution_count": 13,
   "id": "93e625b1",
   "metadata": {},
   "outputs": [
    {
     "name": "stderr",
     "output_type": "stream",
     "text": [
      "Successfully registered model 'kmeans_model_4_V1'.\n",
      "2023/10/20 13:08:04 INFO mlflow.tracking._model_registry.client: Waiting up to 300 seconds for model version to finish creation. Model name: kmeans_model_4_V1, version 1\n"
     ]
    },
    {
     "name": "stdout",
     "output_type": "stream",
     "text": [
      "Model registered: <ModelVersion: aliases=[], creation_timestamp=1697825284660, current_stage='None', description='', last_updated_timestamp=1697825284660, name='kmeans_model_4_V1', run_id='5f787482048f4aac98afd8eaf6a6f463', run_link='', source='mlflow-artifacts:/461238389451589685/5f787482048f4aac98afd8eaf6a6f463/artifacts/kmeans_model_4', status='READY', status_message='', tags={}, user_id='', version='1'>\n"
     ]
    },
    {
     "name": "stderr",
     "output_type": "stream",
     "text": [
      "Created version '1' of model 'kmeans_model_4_V1'.\n"
     ]
    }
   ],
   "source": [
    "# Register the model using the artifact path which is \"runs:/{run_id}/{model_name}\"\n",
    "registered_model = mlflow.register_model(\n",
    "model_uri=f\"runs:/{run_id}/{model_name}\",\n",
    "name=registered_model_name,\n",
    "await_registration_for=300  # Optional: Wait for up to 5 minutes (300 seconds) for registration completion\n",
    ")\n",
    "\n",
    "print(f\"Model registered: {registered_model}\")\n"
   ]
  },
  {
   "cell_type": "markdown",
   "id": "aa39ccce",
   "metadata": {},
   "source": [
    "# Step 5.2: Changing the stage of the registered model\n",
    "\n"
   ]
  },
  {
   "cell_type": "code",
   "execution_count": 14,
   "id": "d8f74112",
   "metadata": {},
   "outputs": [
    {
     "name": "stdout",
     "output_type": "stream",
     "text": [
      "1\n"
     ]
    },
    {
     "data": {
      "text/plain": [
       "<ModelVersion: aliases=[], creation_timestamp=1697825284660, current_stage='Staging', description='', last_updated_timestamp=1697825348138, name='kmeans_model_4_V1', run_id='5f787482048f4aac98afd8eaf6a6f463', run_link='', source='mlflow-artifacts:/461238389451589685/5f787482048f4aac98afd8eaf6a6f463/artifacts/kmeans_model_4', status='READY', status_message='', tags={}, user_id='', version='1'>"
      ]
     },
     "execution_count": 14,
     "metadata": {},
     "output_type": "execute_result"
    }
   ],
   "source": [
    "# To which register model, I want to do stage change\n",
    "registered_model_name=\"kmeans_model_4_V1\"\n",
    "\n",
    "\n",
    "#Get registered model information to use to transition\n",
    "client = MlflowClient()\n",
    "model_details = client.get_registered_model(registered_model_name)\n",
    "latest_version = max([int(v.version) for v in model_details.latest_versions])\n",
    "print(latest_version)\n",
    "\n",
    "# Transition the latest version of the model to 'Staging'\n",
    "client.transition_model_version_stage(\n",
    "    name=registered_model_name,\n",
    "    version=latest_version,\n",
    "    stage=\"Staging\"\n",
    ")\n"
   ]
  },
  {
   "cell_type": "markdown",
   "id": "19be6c3c",
   "metadata": {},
   "source": [
    "# Step 6.1: Consuming Model"
   ]
  },
  {
   "cell_type": "code",
   "execution_count": 18,
   "id": "5018c7b4",
   "metadata": {},
   "outputs": [
    {
     "name": "stdout",
     "output_type": "stream",
     "text": [
      "Logged Model to Load is: runs:/5f787482048f4aac98afd8eaf6a6f463/kmeans_model_4\n"
     ]
    },
    {
     "data": {
      "application/vnd.jupyter.widget-view+json": {
       "model_id": "67588989d439419bbf71525f6082f200",
       "version_major": 2,
       "version_minor": 0
      },
      "text/plain": [
       "Downloading artifacts:   0%|          | 0/5 [00:00<?, ?it/s]"
      ]
     },
     "metadata": {},
     "output_type": "display_data"
    }
   ],
   "source": [
    "# Use the run_id to define the logged_model\n",
    "logged_model = f\"runs:/{run_id}/{model_name}\"\n",
    "\n",
    "print(f\"Logged Model to Load is: {logged_model}\")\n",
    "\n",
    "# Load the model with load_model function from mlflow.sklearn\n",
    "loaded_model = mlflow.sklearn.load_model(logged_model)\n"
   ]
  },
  {
   "cell_type": "code",
   "execution_count": 19,
   "id": "9c9ba6dc",
   "metadata": {},
   "outputs": [
    {
     "data": {
      "text/html": [
       "<div>\n",
       "<style scoped>\n",
       "    .dataframe tbody tr th:only-of-type {\n",
       "        vertical-align: middle;\n",
       "    }\n",
       "\n",
       "    .dataframe tbody tr th {\n",
       "        vertical-align: top;\n",
       "    }\n",
       "\n",
       "    .dataframe thead th {\n",
       "        text-align: right;\n",
       "    }\n",
       "</style>\n",
       "<table border=\"1\" class=\"dataframe\">\n",
       "  <thead>\n",
       "    <tr style=\"text-align: right;\">\n",
       "      <th></th>\n",
       "      <th>TIPO_PQR</th>\n",
       "      <th>Topico</th>\n",
       "      <th>TipoPQRClasificado</th>\n",
       "      <th>cluster</th>\n",
       "      <th>Criticidad</th>\n",
       "    </tr>\n",
       "  </thead>\n",
       "  <tbody>\n",
       "    <tr>\n",
       "      <th>0</th>\n",
       "      <td>DENUNCIA</td>\n",
       "      <td>3</td>\n",
       "      <td>Denuncia</td>\n",
       "      <td>2</td>\n",
       "      <td>baja</td>\n",
       "    </tr>\n",
       "    <tr>\n",
       "      <th>1</th>\n",
       "      <td>QUEJA</td>\n",
       "      <td>1</td>\n",
       "      <td>Felicitacion</td>\n",
       "      <td>1</td>\n",
       "      <td>media</td>\n",
       "    </tr>\n",
       "    <tr>\n",
       "      <th>2</th>\n",
       "      <td>PETICION</td>\n",
       "      <td>0</td>\n",
       "      <td>Peticion</td>\n",
       "      <td>1</td>\n",
       "      <td>media</td>\n",
       "    </tr>\n",
       "    <tr>\n",
       "      <th>3</th>\n",
       "      <td>PETICION</td>\n",
       "      <td>1</td>\n",
       "      <td>Felicitacion</td>\n",
       "      <td>1</td>\n",
       "      <td>media</td>\n",
       "    </tr>\n",
       "    <tr>\n",
       "      <th>4</th>\n",
       "      <td>DENUNCIA</td>\n",
       "      <td>3</td>\n",
       "      <td>Denuncia</td>\n",
       "      <td>1</td>\n",
       "      <td>media</td>\n",
       "    </tr>\n",
       "    <tr>\n",
       "      <th>...</th>\n",
       "      <td>...</td>\n",
       "      <td>...</td>\n",
       "      <td>...</td>\n",
       "      <td>...</td>\n",
       "      <td>...</td>\n",
       "    </tr>\n",
       "    <tr>\n",
       "      <th>24353</th>\n",
       "      <td>SOLICITUD</td>\n",
       "      <td>2</td>\n",
       "      <td>Reclamo y Queja</td>\n",
       "      <td>3</td>\n",
       "      <td>muy baja</td>\n",
       "    </tr>\n",
       "    <tr>\n",
       "      <th>24354</th>\n",
       "      <td>PETICION</td>\n",
       "      <td>0</td>\n",
       "      <td>Peticion</td>\n",
       "      <td>0</td>\n",
       "      <td>alta</td>\n",
       "    </tr>\n",
       "    <tr>\n",
       "      <th>24355</th>\n",
       "      <td>QUEJA</td>\n",
       "      <td>3</td>\n",
       "      <td>Denuncia</td>\n",
       "      <td>2</td>\n",
       "      <td>baja</td>\n",
       "    </tr>\n",
       "    <tr>\n",
       "      <th>24356</th>\n",
       "      <td>RECLAMO</td>\n",
       "      <td>1</td>\n",
       "      <td>Felicitacion</td>\n",
       "      <td>2</td>\n",
       "      <td>baja</td>\n",
       "    </tr>\n",
       "    <tr>\n",
       "      <th>24357</th>\n",
       "      <td>DENUNCIA</td>\n",
       "      <td>0</td>\n",
       "      <td>Peticion</td>\n",
       "      <td>2</td>\n",
       "      <td>baja</td>\n",
       "    </tr>\n",
       "  </tbody>\n",
       "</table>\n",
       "<p>24358 rows × 5 columns</p>\n",
       "</div>"
      ],
      "text/plain": [
       "        TIPO_PQR  Topico TipoPQRClasificado  cluster Criticidad\n",
       "0       DENUNCIA       3           Denuncia        2       baja\n",
       "1          QUEJA       1       Felicitacion        1      media\n",
       "2       PETICION       0           Peticion        1      media\n",
       "3       PETICION       1       Felicitacion        1      media\n",
       "4       DENUNCIA       3           Denuncia        1      media\n",
       "...          ...     ...                ...      ...        ...\n",
       "24353  SOLICITUD       2    Reclamo y Queja        3   muy baja\n",
       "24354   PETICION       0           Peticion        0       alta\n",
       "24355      QUEJA       3           Denuncia        2       baja\n",
       "24356    RECLAMO       1       Felicitacion        2       baja\n",
       "24357   DENUNCIA       0           Peticion        2       baja\n",
       "\n",
       "[24358 rows x 5 columns]"
      ]
     },
     "execution_count": 19,
     "metadata": {},
     "output_type": "execute_result"
    }
   ],
   "source": [
    "data_for_predictions = Path('../data/raw/pqr_with_variables_for_predictions.csv')\n",
    "data_for_predictions = pd.read_csv(data_for_predictions)\n",
    "X_scaled_for_predictions = procesar_datos(data_for_predictions)\n",
    "\n",
    "# Make predictions on a pandas DataFrame\n",
    "predictions = loaded_model.predict(pd.DataFrame(X_scaled_for_predictions))\n",
    "\n",
    "# Añadir la criticidad al dataset\n",
    "data_for_predictions['cluster'] = loaded_model.labels_\n",
    "data_for_predictions['Criticidad'] = data_for_predictions['cluster'].apply(asignar_criticidad)\n",
    "data_for_predictions['Predicciones'] = predictions\n",
    "\n",
    "vars_to_look = ['TIPO_PQR','Topico','TipoPQRClasificado','cluster','Criticidad']\n",
    "data_for_predictions[vars_to_look]\n"
   ]
  },
  {
   "cell_type": "code",
   "execution_count": 32,
   "id": "0f36800b",
   "metadata": {},
   "outputs": [
    {
     "data": {
      "text/plain": [
       "cluster\n",
       "0    9231\n",
       "1    6961\n",
       "2    6867\n",
       "3    1299\n",
       "dtype: int64"
      ]
     },
     "execution_count": 32,
     "metadata": {},
     "output_type": "execute_result"
    }
   ],
   "source": [
    "#data_for_predictions[vars_to_look].groupby(['TipoPQRClasificado','Criticidad']).size()\n"
   ]
  },
  {
   "cell_type": "markdown",
   "id": "4dfffb3a",
   "metadata": {},
   "source": [
    "# Step 6.2: Tracking artifacts\n"
   ]
  },
  {
   "cell_type": "code",
   "execution_count": 20,
   "id": "e52b9785",
   "metadata": {},
   "outputs": [],
   "source": [
    "#Data with variables for Kmeans\n",
    "local_artifact_path1 = \"../data/raw/pqr_with_variables_for_Kmeans.csv\"\n",
    "\n",
    "#Data with variables for predictions\n",
    "local_artifact_path2 = \"../data/raw/pqr_with_variables_for_predictions.csv\"\n",
    "\n",
    "#Data with predictions\n",
    "local_artifact_path3 = \"../data/analytics/pqr_with_variables_with_predictions.csv\"\n",
    "data_for_predictions.to_csv(local_artifact_path3)\n"
   ]
  },
  {
   "cell_type": "code",
   "execution_count": 21,
   "id": "eff5c40c",
   "metadata": {},
   "outputs": [],
   "source": [
    "with mlflow.start_run(run_id=run_id):\n",
    "\n",
    "    # Log the artifact to the current run\n",
    "    tracker.log_artifact(local_artifact_path1)\n",
    "    tracker.log_artifact(local_artifact_path2)\n",
    "    tracker.log_artifact(local_artifact_path3)\n"
   ]
  },
  {
   "cell_type": "code",
   "execution_count": 22,
   "id": "eeac0160",
   "metadata": {},
   "outputs": [],
   "source": [
    "tracker.end_run()"
   ]
  },
  {
   "cell_type": "markdown",
   "id": "5282892d",
   "metadata": {},
   "source": [
    "# Conclusions"
   ]
  },
  {
   "cell_type": "markdown",
   "id": "60a4a929-4757-451b-951e-434bc072cace",
   "metadata": {},
   "source": [
    "- The needs of analytics teams evolve, and MLflow is a great tool to streamline the experiment traceability process for the business. 📊🔍\n",
    "\n",
    "- There is high cost-effectiveness in initiating MLOps processes with MLflow. 💰✅\n",
    "- It is essential to establish governance in MLOps projects within analytics teams. 🏛️🤝"
   ]
  },
  {
   "cell_type": "markdown",
   "id": "b85cdadb",
   "metadata": {},
   "source": [
    "# References"
   ]
  },
  {
   "cell_type": "markdown",
   "id": "90247492",
   "metadata": {},
   "source": [
    "- https://docs.aws.amazon.com/wellarchitected/latest/machine-learning-lens/best-practices-by-ml-lifecycle-phase.html\n",
    "- https://media.giphy.com/media/MB139ObkGalArgZOvz/giphy.gif\n",
    "- https://cloud.google.com/architecture/mlops-continuous-delivery-and-automation-pipelines-in-machine-learning\n",
    "- https://mlflow.org/docs/latest/quickstart_mlops.html#\n",
    "- https://crunchingthedata.com/cs01-mlflow-tracking/\n",
    "- https://mlflow.org/docs/latest/tracking.html#concepts"
   ]
  },
  {
   "cell_type": "code",
   "execution_count": null,
   "id": "727793ad-f304-45e2-9e1c-3aed7a80b766",
   "metadata": {},
   "outputs": [],
   "source": []
  }
 ],
 "metadata": {
  "kernelspec": {
   "display_name": "Python 3 (ipykernel)",
   "language": "python",
   "name": "python3"
  },
  "language_info": {
   "codemirror_mode": {
    "name": "ipython",
    "version": 3
   },
   "file_extension": ".py",
   "mimetype": "text/x-python",
   "name": "python",
   "nbconvert_exporter": "python",
   "pygments_lexer": "ipython3",
   "version": "3.10.13"
  }
 },
 "nbformat": 4,
 "nbformat_minor": 5
}
